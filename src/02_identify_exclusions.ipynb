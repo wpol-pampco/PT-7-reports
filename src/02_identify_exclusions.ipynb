{
 "cells": [
  {
   "cell_type": "markdown",
   "id": "afb12597-fa22-44b0-9da2-46fbbd30099a",
   "metadata": {},
   "source": [
    "# Pricing Project\n",
    "## Identify Exclusions\n",
    "Need to identify exclusions for:\n",
    "* Outliers\n",
    "* Customers\n",
    "* Items"
   ]
  },
  {
   "cell_type": "code",
   "execution_count": 1,
   "id": "420b1375-33a5-429f-bbd3-913536f9ec74",
   "metadata": {},
   "outputs": [],
   "source": [
    "import pandas as pd\n",
    "from pathlib import Path\n",
    "\n",
    "pd.set_option('display.max_columns', 100)"
   ]
  },
  {
   "cell_type": "code",
   "execution_count": 2,
   "id": "b2196f86-bef3-497a-83c3-9328454b932d",
   "metadata": {},
   "outputs": [
    {
     "name": "stderr",
     "output_type": "stream",
     "text": [
      "C:\\Users\\franc\\AppData\\Local\\Temp\\ipykernel_9716\\742728568.py:2: DtypeWarning: Columns (19) have mixed types. Specify dtype option on import or set low_memory=False.\n",
      "  inv_df = pd.read_csv(loc)\n"
     ]
    }
   ],
   "source": [
    "loc = Path.cwd().parent / 'data' / 'generated' / 'invoice_data_0_raw.csv'\n",
    "inv_df = pd.read_csv(loc)"
   ]
  },
  {
   "cell_type": "code",
   "execution_count": 3,
   "id": "3b1c8634-29dc-4237-9c6c-1c8c35fafc19",
   "metadata": {},
   "outputs": [
    {
     "data": {
      "text/html": [
       "<div>\n",
       "<style scoped>\n",
       "    .dataframe tbody tr th:only-of-type {\n",
       "        vertical-align: middle;\n",
       "    }\n",
       "\n",
       "    .dataframe tbody tr th {\n",
       "        vertical-align: top;\n",
       "    }\n",
       "\n",
       "    .dataframe thead th {\n",
       "        text-align: right;\n",
       "    }\n",
       "</style>\n",
       "<table border=\"1\" class=\"dataframe\">\n",
       "  <thead>\n",
       "    <tr style=\"text-align: right;\">\n",
       "      <th></th>\n",
       "      <th>whse</th>\n",
       "      <th>orderno</th>\n",
       "      <th>ordersuf</th>\n",
       "      <th>lineno</th>\n",
       "      <th>invoicedt</th>\n",
       "      <th>custno</th>\n",
       "      <th>custname</th>\n",
       "      <th>item</th>\n",
       "      <th>itemdesc</th>\n",
       "      <th>unit</th>\n",
       "      <th>unitconv</th>\n",
       "      <th>units</th>\n",
       "      <th>unitcost</th>\n",
       "      <th>replcost</th>\n",
       "      <th>unitprice</th>\n",
       "      <th>netamt</th>\n",
       "      <th>returnfl</th>\n",
       "      <th>transtype</th>\n",
       "      <th>prod_type</th>\n",
       "      <th>prodcat</th>\n",
       "      <th>cat_descrip</th>\n",
       "      <th>rowpointer</th>\n",
       "      <th>priceorigcd</th>\n",
       "      <th>pdrecno</th>\n",
       "      <th>vendno</th>\n",
       "      <th>arpvendno</th>\n",
       "      <th>xcost_adj</th>\n",
       "      <th>GP$</th>\n",
       "      <th>Margin</th>\n",
       "      <th>month</th>\n",
       "    </tr>\n",
       "  </thead>\n",
       "  <tbody>\n",
       "    <tr>\n",
       "      <th>0</th>\n",
       "      <td>101</td>\n",
       "      <td>933</td>\n",
       "      <td>0</td>\n",
       "      <td>1</td>\n",
       "      <td>2022-02-09</td>\n",
       "      <td>107113</td>\n",
       "      <td>K &amp; S</td>\n",
       "      <td>PAICADS2</td>\n",
       "      <td>CADS-2 DUCT SEALANT GRAY 2 GAL</td>\n",
       "      <td>EA</td>\n",
       "      <td>1.0</td>\n",
       "      <td>1.0</td>\n",
       "      <td>20.20459</td>\n",
       "      <td>21.700</td>\n",
       "      <td>26.80</td>\n",
       "      <td>26.80</td>\n",
       "      <td>0</td>\n",
       "      <td>CS</td>\n",
       "      <td>stocked</td>\n",
       "      <td>6600</td>\n",
       "      <td>ADHESIVES/SEALANTS/TAPES</td>\n",
       "      <td>d41fa94f-2390-e6b4-9014-1a70708d5123</td>\n",
       "      <td>2</td>\n",
       "      <td>57983</td>\n",
       "      <td>16632.0</td>\n",
       "      <td>0.0</td>\n",
       "      <td>20.20459</td>\n",
       "      <td>6.59541</td>\n",
       "      <td>0.246097</td>\n",
       "      <td>2022-02</td>\n",
       "    </tr>\n",
       "    <tr>\n",
       "      <th>1</th>\n",
       "      <td>101</td>\n",
       "      <td>933</td>\n",
       "      <td>0</td>\n",
       "      <td>2</td>\n",
       "      <td>2022-02-09</td>\n",
       "      <td>107113</td>\n",
       "      <td>K &amp; S</td>\n",
       "      <td>DIVB503</td>\n",
       "      <td>B-503 2\" CHIP BRUSH</td>\n",
       "      <td>PC</td>\n",
       "      <td>1.0</td>\n",
       "      <td>1.0</td>\n",
       "      <td>0.25046</td>\n",
       "      <td>0.260</td>\n",
       "      <td>1.01</td>\n",
       "      <td>1.01</td>\n",
       "      <td>0</td>\n",
       "      <td>CS</td>\n",
       "      <td>stocked</td>\n",
       "      <td>6850</td>\n",
       "      <td>EQUIPMENT AND ACC</td>\n",
       "      <td>e5691b06-5a13-6685-9014-1a70d0a6f5a0</td>\n",
       "      <td>7</td>\n",
       "      <td>3285</td>\n",
       "      <td>12773.0</td>\n",
       "      <td>0.0</td>\n",
       "      <td>0.25046</td>\n",
       "      <td>0.75954</td>\n",
       "      <td>0.752020</td>\n",
       "      <td>2022-02</td>\n",
       "    </tr>\n",
       "    <tr>\n",
       "      <th>2</th>\n",
       "      <td>101</td>\n",
       "      <td>911000109</td>\n",
       "      <td>0</td>\n",
       "      <td>1</td>\n",
       "      <td>2022-01-27</td>\n",
       "      <td>100151</td>\n",
       "      <td>BD OF ED GARFIELD</td>\n",
       "      <td>GSS62</td>\n",
       "      <td>16GA. 48X96 GALV STEEL</td>\n",
       "      <td>SH</td>\n",
       "      <td>1.0</td>\n",
       "      <td>24.0</td>\n",
       "      <td>98.09914</td>\n",
       "      <td>117.260</td>\n",
       "      <td>148.57</td>\n",
       "      <td>3565.68</td>\n",
       "      <td>0</td>\n",
       "      <td>SO</td>\n",
       "      <td>stocked</td>\n",
       "      <td>5300</td>\n",
       "      <td>SHEETS, GALVANIZED STEEL</td>\n",
       "      <td>b12fdaef-1b54-6791-8514-397f4855a7a5</td>\n",
       "      <td>O</td>\n",
       "      <td>0</td>\n",
       "      <td>15105.0</td>\n",
       "      <td>0.0</td>\n",
       "      <td>2354.37936</td>\n",
       "      <td>1211.30064</td>\n",
       "      <td>0.339711</td>\n",
       "      <td>2022-01</td>\n",
       "    </tr>\n",
       "    <tr>\n",
       "      <th>3</th>\n",
       "      <td>101</td>\n",
       "      <td>911000109</td>\n",
       "      <td>0</td>\n",
       "      <td>2</td>\n",
       "      <td>2022-01-27</td>\n",
       "      <td>100151</td>\n",
       "      <td>BD OF ED GARFIELD</td>\n",
       "      <td>GSS62</td>\n",
       "      <td>16GA. 48X96 GALV STEEL</td>\n",
       "      <td>SH</td>\n",
       "      <td>1.0</td>\n",
       "      <td>10.0</td>\n",
       "      <td>98.09914</td>\n",
       "      <td>96.824</td>\n",
       "      <td>148.57</td>\n",
       "      <td>1485.70</td>\n",
       "      <td>0</td>\n",
       "      <td>SO</td>\n",
       "      <td>stocked</td>\n",
       "      <td>5300</td>\n",
       "      <td>SHEETS, GALVANIZED STEEL</td>\n",
       "      <td>b12fdaef-1b54-6791-8514-397f98c915aa</td>\n",
       "      <td>O</td>\n",
       "      <td>0</td>\n",
       "      <td>15105.0</td>\n",
       "      <td>0.0</td>\n",
       "      <td>980.99140</td>\n",
       "      <td>504.70860</td>\n",
       "      <td>0.339711</td>\n",
       "      <td>2022-01</td>\n",
       "    </tr>\n",
       "    <tr>\n",
       "      <th>4</th>\n",
       "      <td>101</td>\n",
       "      <td>911000527</td>\n",
       "      <td>0</td>\n",
       "      <td>2</td>\n",
       "      <td>2022-03-15</td>\n",
       "      <td>109762</td>\n",
       "      <td>DAP HVAC - 154 HAMILTON ST</td>\n",
       "      <td>ICP9511</td>\n",
       "      <td>N92ESN0601412A 92% 60M FURNACE</td>\n",
       "      <td>EA</td>\n",
       "      <td>1.0</td>\n",
       "      <td>5.0</td>\n",
       "      <td>759.02801</td>\n",
       "      <td>819.540</td>\n",
       "      <td>710.00</td>\n",
       "      <td>3550.00</td>\n",
       "      <td>0</td>\n",
       "      <td>SO</td>\n",
       "      <td>stocked</td>\n",
       "      <td>4060</td>\n",
       "      <td>ICP 92%+ GAS FURNACES</td>\n",
       "      <td>8687f4d8-b12e-279a-8514-25b170dfd11e</td>\n",
       "      <td>O</td>\n",
       "      <td>0</td>\n",
       "      <td>14204.0</td>\n",
       "      <td>0.0</td>\n",
       "      <td>3795.14005</td>\n",
       "      <td>-245.14005</td>\n",
       "      <td>-0.069054</td>\n",
       "      <td>2022-03</td>\n",
       "    </tr>\n",
       "  </tbody>\n",
       "</table>\n",
       "</div>"
      ],
      "text/plain": [
       "   whse    orderno  ordersuf  lineno   invoicedt  custno  \\\n",
       "0   101        933         0       1  2022-02-09  107113   \n",
       "1   101        933         0       2  2022-02-09  107113   \n",
       "2   101  911000109         0       1  2022-01-27  100151   \n",
       "3   101  911000109         0       2  2022-01-27  100151   \n",
       "4   101  911000527         0       2  2022-03-15  109762   \n",
       "\n",
       "                     custname      item                        itemdesc unit  \\\n",
       "0                       K & S  PAICADS2  CADS-2 DUCT SEALANT GRAY 2 GAL   EA   \n",
       "1                       K & S   DIVB503            B-503 2\" CHIP BRUSH    PC   \n",
       "2           BD OF ED GARFIELD     GSS62         16GA. 48X96 GALV STEEL    SH   \n",
       "3           BD OF ED GARFIELD     GSS62         16GA. 48X96 GALV STEEL    SH   \n",
       "4  DAP HVAC - 154 HAMILTON ST   ICP9511  N92ESN0601412A 92% 60M FURNACE   EA   \n",
       "\n",
       "   unitconv  units   unitcost  replcost  unitprice   netamt  returnfl  \\\n",
       "0       1.0    1.0   20.20459    21.700      26.80    26.80         0   \n",
       "1       1.0    1.0    0.25046     0.260       1.01     1.01         0   \n",
       "2       1.0   24.0   98.09914   117.260     148.57  3565.68         0   \n",
       "3       1.0   10.0   98.09914    96.824     148.57  1485.70         0   \n",
       "4       1.0    5.0  759.02801   819.540     710.00  3550.00         0   \n",
       "\n",
       "  transtype prod_type prodcat               cat_descrip  \\\n",
       "0        CS   stocked    6600  ADHESIVES/SEALANTS/TAPES   \n",
       "1        CS   stocked    6850         EQUIPMENT AND ACC   \n",
       "2        SO   stocked    5300  SHEETS, GALVANIZED STEEL   \n",
       "3        SO   stocked    5300  SHEETS, GALVANIZED STEEL   \n",
       "4        SO   stocked    4060     ICP 92%+ GAS FURNACES   \n",
       "\n",
       "                             rowpointer priceorigcd  pdrecno   vendno  \\\n",
       "0  d41fa94f-2390-e6b4-9014-1a70708d5123           2    57983  16632.0   \n",
       "1  e5691b06-5a13-6685-9014-1a70d0a6f5a0           7     3285  12773.0   \n",
       "2  b12fdaef-1b54-6791-8514-397f4855a7a5           O        0  15105.0   \n",
       "3  b12fdaef-1b54-6791-8514-397f98c915aa           O        0  15105.0   \n",
       "4  8687f4d8-b12e-279a-8514-25b170dfd11e           O        0  14204.0   \n",
       "\n",
       "   arpvendno   xcost_adj         GP$    Margin    month  \n",
       "0        0.0    20.20459     6.59541  0.246097  2022-02  \n",
       "1        0.0     0.25046     0.75954  0.752020  2022-02  \n",
       "2        0.0  2354.37936  1211.30064  0.339711  2022-01  \n",
       "3        0.0   980.99140   504.70860  0.339711  2022-01  \n",
       "4        0.0  3795.14005  -245.14005 -0.069054  2022-03  "
      ]
     },
     "execution_count": 3,
     "metadata": {},
     "output_type": "execute_result"
    }
   ],
   "source": [
    "inv_df.head()"
   ]
  },
  {
   "cell_type": "code",
   "execution_count": 4,
   "id": "d6201010-9abc-4628-a1cc-e32d62bac7dc",
   "metadata": {},
   "outputs": [],
   "source": [
    "# add Exclusion column to raw file\n",
    "inv_df['Exclusion'] = None"
   ]
  },
  {
   "cell_type": "markdown",
   "id": "26c5db12-a3ae-478c-8110-34bca938a53e",
   "metadata": {},
   "source": [
    "## Items\n",
    "* Nonstock\n",
    "* Special Order\n",
    "* Labor Codes"
   ]
  },
  {
   "cell_type": "code",
   "execution_count": 5,
   "id": "d9ec25e0-39bb-4882-93d9-0b6fc4389919",
   "metadata": {},
   "outputs": [],
   "source": [
    "# Remove any Nonstock Items\n",
    "null_criteria = inv_df['Exclusion'].isnull()\n",
    "ns_criteria = inv_df['prod_type'] == 'nonstock'\n",
    "inv_df.loc[null_criteria & ns_criteria, 'Exclusion'] = 'Item - nonstock'"
   ]
  },
  {
   "cell_type": "code",
   "execution_count": 6,
   "id": "7fe6b0e5-b0ef-4544-8a9d-607de1155ad7",
   "metadata": {},
   "outputs": [],
   "source": [
    "# Remove any Special Order Items\n",
    "null_criteria = inv_df['Exclusion'].isnull()\n",
    "so_criteria = inv_df['prod_type'] == 'special order'\n",
    "inv_df.loc[null_criteria & so_criteria, 'Exclusion'] = 'Item - special order'"
   ]
  },
  {
   "cell_type": "code",
   "execution_count": 7,
   "id": "91e3b7bf-f929-48b2-beee-0420a5e18f9d",
   "metadata": {},
   "outputs": [],
   "source": [
    "# Remove Labor Code Items\n",
    "null_criteria = inv_df['Exclusion'].isnull()\n",
    "labor_criteria = inv_df['prodcat'] == 8888\n",
    "inv_df.loc[null_criteria & labor_criteria, 'Exclusion'] = 'Item - labor'"
   ]
  },
  {
   "cell_type": "code",
   "execution_count": 8,
   "id": "99c3e43f-16ff-4591-8509-8ade1cbda6a7",
   "metadata": {},
   "outputs": [
    {
     "data": {
      "text/plain": [
       "array(['stocked', 'nonstock', 'special order'], dtype=object)"
      ]
     },
     "execution_count": 8,
     "metadata": {},
     "output_type": "execute_result"
    }
   ],
   "source": [
    "inv_df['prod_type'].unique()"
   ]
  },
  {
   "cell_type": "markdown",
   "id": "de981b6f-e78c-4bfb-8def-a6b0c9e2e97a",
   "metadata": {
    "tags": []
   },
   "source": [
    "## Customers\n",
    "* Accounts that don't have custname filled in, assuming these are inactive\n",
    "* Customer with XXX in the name\n",
    "* Any customers that appear in the ../data/inputs/customer_exclusion.xlsx file"
   ]
  },
  {
   "cell_type": "code",
   "execution_count": 9,
   "id": "baf7fabb-4c2e-4335-bb0e-d96f57014fac",
   "metadata": {},
   "outputs": [],
   "source": [
    "# fill in missing customer names with 'Inactive'\n",
    "inv_df['custname'] = inv_df['custname'].fillna('INACTIVE')"
   ]
  },
  {
   "cell_type": "code",
   "execution_count": 10,
   "id": "c1a388ef-5268-475a-a2f5-7771cb1441b4",
   "metadata": {},
   "outputs": [],
   "source": [
    "# Remove any inactive customers\n",
    "null_criteria = inv_df['Exclusion'].isnull()\n",
    "inactive_acct_criteria = inv_df['custname'].str.contains('INACTIVE')\n",
    "inv_df.loc[null_criteria & inactive_acct_criteria, 'Exclusion'] = 'Customer - inactive acct'"
   ]
  },
  {
   "cell_type": "code",
   "execution_count": 11,
   "id": "329542dc-82a0-400e-b47d-8e940d71db5a",
   "metadata": {},
   "outputs": [],
   "source": [
    "# Remove any customers with 'XXX' in the name\n",
    "null_criteria = inv_df['Exclusion'].isnull()\n",
    "xxx_acct_criteria = inv_df['custname'].str.contains('XXX')\n",
    "inv_df.loc[null_criteria & xxx_acct_criteria, 'Exclusion'] = 'Customer - xxx acct'"
   ]
  },
  {
   "cell_type": "code",
   "execution_count": 12,
   "id": "0ba5f848-5ceb-4122-a8e9-cdd909d502c1",
   "metadata": {},
   "outputs": [],
   "source": [
    "# Remove any customers in the ../data/customer_exclusions.xlsx file\n",
    "loc = Path.cwd().parent / 'data' / 'inputs' / 'customer_exclusions.xlsx'\n",
    "cust_ex_df = pd.read_excel(loc, engine='openpyxl')\n",
    "cust_exclusion_map = {i[0]:i[1] for i in cust_ex_df.to_dict('split')['data']}\n",
    "inv_df['Exclusion'] = inv_df['Exclusion'].combine_first(inv_df['custno'].map(cust_exclusion_map))"
   ]
  },
  {
   "cell_type": "markdown",
   "id": "b6ffe331-cc3a-45f1-bc16-45fefa803336",
   "metadata": {},
   "source": [
    "## Outliers\n",
    "* Quantity Shipped < 0\n",
    "* Unit Cost = 0\n",
    "* Unit Price = 0\n",
    "* Net Amount <= 0\n",
    "* Gross Profit Dollars <= 0\n",
    "* Gross Profit Percent < 0.5% or > 80%"
   ]
  },
  {
   "cell_type": "code",
   "execution_count": 13,
   "id": "8a5ec713-bf24-4654-b3b4-fbd7493e586e",
   "metadata": {},
   "outputs": [],
   "source": [
    "# Remove any lines with negative quantity shipped\n",
    "null_criteria = inv_df['Exclusion'].isnull()\n",
    "qty_ship_criteria = inv_df['units'] < 0\n",
    "inv_df.loc[null_criteria & qty_ship_criteria, 'Exclusion'] = 'Outlier - negative quantity'"
   ]
  },
  {
   "cell_type": "code",
   "execution_count": 14,
   "id": "b5b4e28d-d6ec-4d48-abe4-0d186d2f599a",
   "metadata": {},
   "outputs": [],
   "source": [
    "# Remove any lines with zero unit cost\n",
    "null_criteria = inv_df['Exclusion'].isnull()\n",
    "unit_cost_criteria = inv_df['unitcost'] == 0\n",
    "inv_df.loc[null_criteria & unit_cost_criteria, 'Exclusion'] = 'Outlier - zero cost'"
   ]
  },
  {
   "cell_type": "code",
   "execution_count": 15,
   "id": "66d06dcb-6375-4c1a-abfb-f19b495fe080",
   "metadata": {},
   "outputs": [],
   "source": [
    "# Remove any lines with zero unit price\n",
    "null_criteria = inv_df['Exclusion'].isnull()\n",
    "unit_price_criteria = inv_df['unitprice'] == 0\n",
    "inv_df.loc[null_criteria & unit_price_criteria, 'Exclusion'] = 'Outlier - zero price'"
   ]
  },
  {
   "cell_type": "code",
   "execution_count": 16,
   "id": "bfd0eb03-93b0-48b3-8252-19871d55987e",
   "metadata": {},
   "outputs": [],
   "source": [
    "# Remove any lines with net amount less than or equal to zero\n",
    "null_criteria = inv_df['Exclusion'].isnull()\n",
    "unit_price_criteria = inv_df['netamt'] <= 0\n",
    "inv_df.loc[null_criteria & unit_price_criteria, 'Exclusion'] = 'Outlier - zero net amount'"
   ]
  },
  {
   "cell_type": "code",
   "execution_count": 17,
   "id": "74051775-ad08-4fb1-956b-8ef9423d94fd",
   "metadata": {},
   "outputs": [],
   "source": [
    "# Remove any lines with negative gross profit dollars\n",
    "null_criteria = inv_df['Exclusion'].isnull()\n",
    "gp_dollar_criteria = inv_df['GP$'] <= 0\n",
    "inv_df.loc[null_criteria & gp_dollar_criteria, 'Exclusion'] = 'Outlier - negative margin dollars'"
   ]
  },
  {
   "cell_type": "code",
   "execution_count": 18,
   "id": "8de09582-cd39-43ca-87c6-d3fb66ef3a25",
   "metadata": {},
   "outputs": [],
   "source": [
    "# Remove any lines with negative gross profit dollars\n",
    "null_criteria = inv_df['Exclusion'].isnull()\n",
    "gp_pct_low_criteria = inv_df['Margin'] < .005\n",
    "gp_pct_high_criteria = inv_df['Margin'] > .8\n",
    "inv_df.loc[null_criteria & (gp_pct_low_criteria | gp_pct_high_criteria), 'Exclusion'] = 'Outlier - high/low margin pct'"
   ]
  },
  {
   "cell_type": "markdown",
   "id": "db415f40-3b79-4835-ae41-6d918763453a",
   "metadata": {},
   "source": [
    "## Max Gurtman: whse = 601 or 602"
   ]
  },
  {
   "cell_type": "code",
   "execution_count": 19,
   "id": "aacdd55d-a989-4643-b273-b0a9c04f976d",
   "metadata": {},
   "outputs": [],
   "source": [
    "# Remove any lines with whse = 601\n",
    "null_criteria = inv_df['Exclusion'].isnull()\n",
    "Max_Gurtman_601_criteria = inv_df['whse'] == 601\n",
    "inv_df.loc[null_criteria & Max_Gurtman_601_criteria, 'Exclusion'] = 'Warehouse - 601'"
   ]
  },
  {
   "cell_type": "code",
   "execution_count": 20,
   "id": "95eb9576-20fa-46e0-b4cd-39f55963f06a",
   "metadata": {},
   "outputs": [],
   "source": [
    "# Remove any lines with whse = 602\n",
    "null_criteria = inv_df['Exclusion'].isnull()\n",
    "Max_Gurtman_602_criteria = inv_df['whse'] == 602\n",
    "inv_df.loc[null_criteria & Max_Gurtman_602_criteria, 'Exclusion'] = 'Warehouse - 602'"
   ]
  },
  {
   "cell_type": "markdown",
   "id": "60c3dc3e-5539-484b-9e15-2193ac7644a3",
   "metadata": {},
   "source": [
    "## Summary"
   ]
  },
  {
   "cell_type": "code",
   "execution_count": 22,
   "id": "8f36d7bd-66e1-46f6-83d8-451857ef6b66",
   "metadata": {},
   "outputs": [],
   "source": [
    "inv_df.loc[inv_df['prod_type'] == 'nonstock'].groupby(by='vendno', as_index=False).agg({'netamt':'sum'}).to_clipboard(index=False)"
   ]
  },
  {
   "cell_type": "code",
   "execution_count": 21,
   "id": "18c3e597-e61c-4aa0-a278-9ff4272cf150",
   "metadata": {},
   "outputs": [
    {
     "data": {
      "text/plain": [
       "Item - special order                 26461\n",
       "Outlier - negative quantity          12452\n",
       "Item - nonstock                      10751\n",
       "Outlier - zero net amount             6613\n",
       "Customer - cash                       4633\n",
       "Outlier - negative margin dollars     3478\n",
       "Customer - fake acct                  1136\n",
       "Outlier - zero cost                   1054\n",
       "Outlier - high/low margin pct          642\n",
       "Item - labor                           592\n",
       "Outlier - zero price                   545\n",
       "Customer - employee acct               363\n",
       "Customer - xxx acct                    150\n",
       "Customer - inactive acct                10\n",
       "Customer - delete                       10\n",
       "Warehouse - 602                          4\n",
       "Name: Exclusion, dtype: int64"
      ]
     },
     "execution_count": 21,
     "metadata": {},
     "output_type": "execute_result"
    }
   ],
   "source": [
    "inv_df['Exclusion'].value_counts()"
   ]
  },
  {
   "cell_type": "code",
   "execution_count": 22,
   "id": "0ddfa4df-06a9-42e8-bd99-c8b347e2e385",
   "metadata": {},
   "outputs": [
    {
     "data": {
      "text/html": [
       "<div>\n",
       "<style scoped>\n",
       "    .dataframe tbody tr th:only-of-type {\n",
       "        vertical-align: middle;\n",
       "    }\n",
       "\n",
       "    .dataframe tbody tr th {\n",
       "        vertical-align: top;\n",
       "    }\n",
       "\n",
       "    .dataframe thead th {\n",
       "        text-align: right;\n",
       "    }\n",
       "</style>\n",
       "<table border=\"1\" class=\"dataframe\">\n",
       "  <thead>\n",
       "    <tr style=\"text-align: right;\">\n",
       "      <th></th>\n",
       "      <th>netamt</th>\n",
       "    </tr>\n",
       "    <tr>\n",
       "      <th>Exclusion</th>\n",
       "      <th></th>\n",
       "    </tr>\n",
       "  </thead>\n",
       "  <tbody>\n",
       "    <tr>\n",
       "      <th>Customer - cash</th>\n",
       "      <td>865950.93</td>\n",
       "    </tr>\n",
       "    <tr>\n",
       "      <th>Customer - delete</th>\n",
       "      <td>1638.62</td>\n",
       "    </tr>\n",
       "    <tr>\n",
       "      <th>Customer - employee acct</th>\n",
       "      <td>20126.16</td>\n",
       "    </tr>\n",
       "    <tr>\n",
       "      <th>Customer - fake acct</th>\n",
       "      <td>67650.48</td>\n",
       "    </tr>\n",
       "    <tr>\n",
       "      <th>Customer - inactive acct</th>\n",
       "      <td>4136.96</td>\n",
       "    </tr>\n",
       "    <tr>\n",
       "      <th>Customer - xxx acct</th>\n",
       "      <td>21602.94</td>\n",
       "    </tr>\n",
       "    <tr>\n",
       "      <th>Item - labor</th>\n",
       "      <td>28250.08</td>\n",
       "    </tr>\n",
       "    <tr>\n",
       "      <th>Item - nonstock</th>\n",
       "      <td>16633467.86</td>\n",
       "    </tr>\n",
       "    <tr>\n",
       "      <th>Item - special order</th>\n",
       "      <td>18936081.29</td>\n",
       "    </tr>\n",
       "    <tr>\n",
       "      <th>Outlier - high/low margin pct</th>\n",
       "      <td>342151.22</td>\n",
       "    </tr>\n",
       "    <tr>\n",
       "      <th>Outlier - negative margin dollars</th>\n",
       "      <td>4751201.23</td>\n",
       "    </tr>\n",
       "    <tr>\n",
       "      <th>Outlier - negative quantity</th>\n",
       "      <td>-4340621.92</td>\n",
       "    </tr>\n",
       "    <tr>\n",
       "      <th>Outlier - zero cost</th>\n",
       "      <td>1712107.39</td>\n",
       "    </tr>\n",
       "    <tr>\n",
       "      <th>Outlier - zero net amount</th>\n",
       "      <td>0.00</td>\n",
       "    </tr>\n",
       "    <tr>\n",
       "      <th>Outlier - zero price</th>\n",
       "      <td>0.00</td>\n",
       "    </tr>\n",
       "    <tr>\n",
       "      <th>Warehouse - 602</th>\n",
       "      <td>243.78</td>\n",
       "    </tr>\n",
       "  </tbody>\n",
       "</table>\n",
       "</div>"
      ],
      "text/plain": [
       "                                        netamt\n",
       "Exclusion                                     \n",
       "Customer - cash                      865950.93\n",
       "Customer - delete                      1638.62\n",
       "Customer - employee acct              20126.16\n",
       "Customer - fake acct                  67650.48\n",
       "Customer - inactive acct               4136.96\n",
       "Customer - xxx acct                   21602.94\n",
       "Item - labor                          28250.08\n",
       "Item - nonstock                    16633467.86\n",
       "Item - special order               18936081.29\n",
       "Outlier - high/low margin pct        342151.22\n",
       "Outlier - negative margin dollars   4751201.23\n",
       "Outlier - negative quantity        -4340621.92\n",
       "Outlier - zero cost                 1712107.39\n",
       "Outlier - zero net amount                 0.00\n",
       "Outlier - zero price                      0.00\n",
       "Warehouse - 602                         243.78"
      ]
     },
     "execution_count": 22,
     "metadata": {},
     "output_type": "execute_result"
    }
   ],
   "source": [
    "inv_df[['Exclusion','netamt']].groupby(by='Exclusion').sum('netamt')"
   ]
  },
  {
   "cell_type": "code",
   "execution_count": 23,
   "id": "a6da10eb-8283-4ef8-bf6e-9172065344d9",
   "metadata": {},
   "outputs": [
    {
     "data": {
      "text/plain": [
       "264960"
      ]
     },
     "execution_count": 23,
     "metadata": {},
     "output_type": "execute_result"
    }
   ],
   "source": [
    "inv_df[['Exclusion']].isna().any(axis=1).sum()"
   ]
  },
  {
   "cell_type": "markdown",
   "id": "43d2cc2f-f6a8-45e1-a619-0d01ec7c6940",
   "metadata": {},
   "source": [
    "## Save to csv"
   ]
  },
  {
   "cell_type": "code",
   "execution_count": 24,
   "id": "01df857c-e915-4d41-aa9f-2d300b566575",
   "metadata": {},
   "outputs": [],
   "source": [
    "loc = Path.cwd().parent / 'data' / 'generated' / 'invoice_data_1_exclusions_labeled.csv'\n",
    "inv_df.to_csv(loc, index=False)"
   ]
  },
  {
   "cell_type": "code",
   "execution_count": 25,
   "id": "9ec56ad5-79f0-43e8-9278-ad6f70fac5fb",
   "metadata": {},
   "outputs": [
    {
     "data": {
      "text/plain": [
       "4136.96"
      ]
     },
     "execution_count": 25,
     "metadata": {},
     "output_type": "execute_result"
    }
   ],
   "source": [
    "inv_df.loc[inv_df['Exclusion'] == 'Customer - inactive acct']['netamt'].sum()"
   ]
  },
  {
   "cell_type": "code",
   "execution_count": 26,
   "id": "30322d7f-af0c-4f4f-8a2a-61498a1aa32d",
   "metadata": {},
   "outputs": [
    {
     "data": {
      "text/plain": [
       "243.78000000000003"
      ]
     },
     "execution_count": 26,
     "metadata": {},
     "output_type": "execute_result"
    }
   ],
   "source": [
    "inv_df.loc[inv_df['Exclusion'] == 'Warehouse - 602']['netamt'].sum()"
   ]
  },
  {
   "cell_type": "code",
   "execution_count": 27,
   "id": "34e8fa7a-6aed-4c08-a324-4a6111f3dda6",
   "metadata": {},
   "outputs": [
    {
     "data": {
      "text/plain": [
       "138958096.3599987"
      ]
     },
     "execution_count": 27,
     "metadata": {},
     "output_type": "execute_result"
    }
   ],
   "source": [
    "sum(inv_df['netamt'])"
   ]
  },
  {
   "cell_type": "code",
   "execution_count": null,
   "id": "7f225e7d-aa24-408b-b145-3028841fc48e",
   "metadata": {},
   "outputs": [],
   "source": []
  }
 ],
 "metadata": {
  "kernelspec": {
   "display_name": "Python 3 (ipykernel)",
   "language": "python",
   "name": "python3"
  },
  "language_info": {
   "codemirror_mode": {
    "name": "ipython",
    "version": 3
   },
   "file_extension": ".py",
   "mimetype": "text/x-python",
   "name": "python",
   "nbconvert_exporter": "python",
   "pygments_lexer": "ipython3",
   "version": "3.10.4"
  }
 },
 "nbformat": 4,
 "nbformat_minor": 5
}
