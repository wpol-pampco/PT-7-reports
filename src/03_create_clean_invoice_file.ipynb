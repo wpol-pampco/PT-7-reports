{
 "cells": [
  {
   "cell_type": "markdown",
   "id": "038d3dce-7002-43ab-a951-469b0d816b36",
   "metadata": {},
   "source": [
    "# Curate in-scope invoice data set\n",
    "Keep only data that is not labeled as excluded for any reason, and add any necessary labels.\n",
    "\n",
    "Labels:\n",
    "* Warehouse demographics (division, warehouse name)"
   ]
  },
  {
   "cell_type": "code",
   "execution_count": 1,
   "id": "4c5c70f7-3359-42af-b85d-2985bafdfdb4",
   "metadata": {},
   "outputs": [],
   "source": [
    "import pandas as pd\n",
    "from pathlib import Path"
   ]
  },
  {
   "cell_type": "code",
   "execution_count": 2,
   "id": "776a5ade-f0ff-41f0-999e-dabb53002efb",
   "metadata": {},
   "outputs": [
    {
     "name": "stderr",
     "output_type": "stream",
     "text": [
      "C:\\Users\\franc\\AppData\\Local\\Temp\\ipykernel_27208\\4083722076.py:2: DtypeWarning: Columns (19) have mixed types. Specify dtype option on import or set low_memory=False.\n",
      "  inv_df_raw = pd.read_csv(loc)\n"
     ]
    }
   ],
   "source": [
    "loc = Path.cwd().parent / 'data' / 'generated' / 'invoice_data_1_exclusions_labeled.csv'\n",
    "inv_df_raw = pd.read_csv(loc)"
   ]
  },
  {
   "cell_type": "code",
   "execution_count": 3,
   "id": "446d8015-68f0-433d-9dd3-e3f473d902cd",
   "metadata": {},
   "outputs": [],
   "source": [
    "# keep only clean data\n",
    "inv_df_clean = inv_df_raw.loc[inv_df_raw['Exclusion'].isnull()].copy()"
   ]
  },
  {
   "cell_type": "code",
   "execution_count": 4,
   "id": "eaaf7c1d-5ffc-48fc-921a-4b4192d06a76",
   "metadata": {},
   "outputs": [],
   "source": [
    "inv_df_clean.to_clipboard(index=False)"
   ]
  },
  {
   "cell_type": "code",
   "execution_count": 5,
   "id": "f1a1314b-92c1-4a11-81e4-d8b97cafc685",
   "metadata": {},
   "outputs": [],
   "source": [
    "# merge in warehouse demographics\n",
    "loc = Path.cwd().parent / 'data' / 'inputs' / 'warehouse_demographics.xlsx'\n",
    "whse_demo_df = pd.read_excel(loc, engine='openpyxl')\n",
    "\n",
    "inv_df_clean = inv_df_clean.merge(whse_demo_df, how='left', on='whse', validate='m:1')"
   ]
  },
  {
   "cell_type": "code",
   "execution_count": 6,
   "id": "307a32df-e09a-4021-a98c-1c7dffcb8c30",
   "metadata": {},
   "outputs": [
    {
     "data": {
      "text/html": [
       "<div>\n",
       "<style scoped>\n",
       "    .dataframe tbody tr th:only-of-type {\n",
       "        vertical-align: middle;\n",
       "    }\n",
       "\n",
       "    .dataframe tbody tr th {\n",
       "        vertical-align: top;\n",
       "    }\n",
       "\n",
       "    .dataframe thead th {\n",
       "        text-align: right;\n",
       "    }\n",
       "</style>\n",
       "<table border=\"1\" class=\"dataframe\">\n",
       "  <thead>\n",
       "    <tr style=\"text-align: right;\">\n",
       "      <th></th>\n",
       "      <th>whse</th>\n",
       "      <th>orderno</th>\n",
       "      <th>ordersuf</th>\n",
       "      <th>lineno</th>\n",
       "      <th>invoicedt</th>\n",
       "      <th>custno</th>\n",
       "      <th>custname</th>\n",
       "      <th>item</th>\n",
       "      <th>itemdesc</th>\n",
       "      <th>unit</th>\n",
       "      <th>...</th>\n",
       "      <th>priceorigcd</th>\n",
       "      <th>pdrecno</th>\n",
       "      <th>vendno</th>\n",
       "      <th>xcost_adj</th>\n",
       "      <th>GP$</th>\n",
       "      <th>Margin</th>\n",
       "      <th>month</th>\n",
       "      <th>Exclusion</th>\n",
       "      <th>whse_name</th>\n",
       "      <th>division</th>\n",
       "    </tr>\n",
       "  </thead>\n",
       "  <tbody>\n",
       "    <tr>\n",
       "      <th>0</th>\n",
       "      <td>101</td>\n",
       "      <td>933</td>\n",
       "      <td>0</td>\n",
       "      <td>1</td>\n",
       "      <td>2022-02-09</td>\n",
       "      <td>107113</td>\n",
       "      <td>K &amp; S</td>\n",
       "      <td>PAICADS2</td>\n",
       "      <td>CADS-2 DUCT SEALANT GRAY 2 GAL</td>\n",
       "      <td>EA</td>\n",
       "      <td>...</td>\n",
       "      <td>2</td>\n",
       "      <td>57983</td>\n",
       "      <td>16632.0</td>\n",
       "      <td>20.20459</td>\n",
       "      <td>6.59541</td>\n",
       "      <td>0.246097</td>\n",
       "      <td>2022-02</td>\n",
       "      <td>NaN</td>\n",
       "      <td>Clifton HVAC</td>\n",
       "      <td>HVAC</td>\n",
       "    </tr>\n",
       "    <tr>\n",
       "      <th>1</th>\n",
       "      <td>101</td>\n",
       "      <td>933</td>\n",
       "      <td>0</td>\n",
       "      <td>2</td>\n",
       "      <td>2022-02-09</td>\n",
       "      <td>107113</td>\n",
       "      <td>K &amp; S</td>\n",
       "      <td>DIVB503</td>\n",
       "      <td>B-503 2\" CHIP BRUSH</td>\n",
       "      <td>PC</td>\n",
       "      <td>...</td>\n",
       "      <td>7</td>\n",
       "      <td>3285</td>\n",
       "      <td>12773.0</td>\n",
       "      <td>0.25046</td>\n",
       "      <td>0.75954</td>\n",
       "      <td>0.752020</td>\n",
       "      <td>2022-02</td>\n",
       "      <td>NaN</td>\n",
       "      <td>Clifton HVAC</td>\n",
       "      <td>HVAC</td>\n",
       "    </tr>\n",
       "    <tr>\n",
       "      <th>2</th>\n",
       "      <td>101</td>\n",
       "      <td>911000109</td>\n",
       "      <td>0</td>\n",
       "      <td>1</td>\n",
       "      <td>2022-01-27</td>\n",
       "      <td>100151</td>\n",
       "      <td>BD OF ED GARFIELD</td>\n",
       "      <td>GSS62</td>\n",
       "      <td>16GA. 48X96 GALV STEEL</td>\n",
       "      <td>SH</td>\n",
       "      <td>...</td>\n",
       "      <td>O</td>\n",
       "      <td>0</td>\n",
       "      <td>15105.0</td>\n",
       "      <td>2354.37936</td>\n",
       "      <td>1211.30064</td>\n",
       "      <td>0.339711</td>\n",
       "      <td>2022-01</td>\n",
       "      <td>NaN</td>\n",
       "      <td>Clifton HVAC</td>\n",
       "      <td>HVAC</td>\n",
       "    </tr>\n",
       "  </tbody>\n",
       "</table>\n",
       "<p>3 rows × 32 columns</p>\n",
       "</div>"
      ],
      "text/plain": [
       "   whse    orderno  ordersuf  lineno   invoicedt  custno           custname  \\\n",
       "0   101        933         0       1  2022-02-09  107113              K & S   \n",
       "1   101        933         0       2  2022-02-09  107113              K & S   \n",
       "2   101  911000109         0       1  2022-01-27  100151  BD OF ED GARFIELD   \n",
       "\n",
       "       item                        itemdesc unit  ...  priceorigcd  pdrecno  \\\n",
       "0  PAICADS2  CADS-2 DUCT SEALANT GRAY 2 GAL   EA  ...            2    57983   \n",
       "1   DIVB503            B-503 2\" CHIP BRUSH    PC  ...            7     3285   \n",
       "2     GSS62         16GA. 48X96 GALV STEEL    SH  ...            O        0   \n",
       "\n",
       "    vendno   xcost_adj         GP$    Margin    month Exclusion     whse_name  \\\n",
       "0  16632.0    20.20459     6.59541  0.246097  2022-02       NaN  Clifton HVAC   \n",
       "1  12773.0     0.25046     0.75954  0.752020  2022-02       NaN  Clifton HVAC   \n",
       "2  15105.0  2354.37936  1211.30064  0.339711  2022-01       NaN  Clifton HVAC   \n",
       "\n",
       "  division  \n",
       "0     HVAC  \n",
       "1     HVAC  \n",
       "2     HVAC  \n",
       "\n",
       "[3 rows x 32 columns]"
      ]
     },
     "execution_count": 6,
     "metadata": {},
     "output_type": "execute_result"
    }
   ],
   "source": [
    "inv_df_clean.head(3)"
   ]
  },
  {
   "cell_type": "code",
   "execution_count": 7,
   "id": "dc74cc64-31cb-4025-ab4a-c85be12beb70",
   "metadata": {},
   "outputs": [
    {
     "data": {
      "text/plain": [
       "104420328.88000013"
      ]
     },
     "execution_count": 7,
     "metadata": {},
     "output_type": "execute_result"
    }
   ],
   "source": [
    "sum(inv_df_clean['netamt'])"
   ]
  },
  {
   "cell_type": "code",
   "execution_count": 8,
   "id": "eaef5110-4d2b-47b8-bb94-0a0b60c68069",
   "metadata": {},
   "outputs": [],
   "source": [
    "loc = Path.cwd().parent / 'data' / 'generated' / 'invoice_data_2_in-scope.csv'\n",
    "inv_df_clean.to_csv(loc, index=False)"
   ]
  },
  {
   "cell_type": "code",
   "execution_count": null,
   "id": "7b068a2b-d8e3-4afa-a947-d06c38f36c32",
   "metadata": {},
   "outputs": [],
   "source": []
  }
 ],
 "metadata": {
  "kernelspec": {
   "display_name": "Python 3 (ipykernel)",
   "language": "python",
   "name": "python3"
  },
  "language_info": {
   "codemirror_mode": {
    "name": "ipython",
    "version": 3
   },
   "file_extension": ".py",
   "mimetype": "text/x-python",
   "name": "python",
   "nbconvert_exporter": "python",
   "pygments_lexer": "ipython3",
   "version": "3.10.4"
  }
 },
 "nbformat": 4,
 "nbformat_minor": 5
}
