{
 "cells": [
  {
   "cell_type": "markdown",
   "id": "1d3acb14-4c86-4e2c-99e7-e26c38dc1bce",
   "metadata": {},
   "source": [
    "# Identify products"
   ]
  },
  {
   "cell_type": "code",
   "execution_count": 1,
   "id": "f790dc68-d0b0-46ed-a15c-39db9cddb063",
   "metadata": {},
   "outputs": [],
   "source": [
    "import pandas as pd\n",
    "from pathlib import Path\n",
    "import csd as c"
   ]
  },
  {
   "cell_type": "markdown",
   "id": "02c20c02-aed7-4d9e-89e3-6754c60d840a",
   "metadata": {},
   "source": [
    "## <span style=\"color:red\"> Change vendor name in quotes"
   ]
  },
  {
   "cell_type": "code",
   "execution_count": 2,
   "id": "1b3a39ca-4c66-4a0e-817c-337ecdfcf1b7",
   "metadata": {},
   "outputs": [
    {
     "name": "stderr",
     "output_type": "stream",
     "text": [
      "C:\\Users\\franc\\miniconda3\\envs\\work\\lib\\site-packages\\pandas\\io\\sql.py:761: UserWarning: pandas only support SQLAlchemy connectable(engine/connection) ordatabase string URI or sqlite3 DBAPI2 connectionother DBAPI2 objects are not tested, please consider using SQLAlchemy\n",
      "  warnings.warn(\n"
     ]
    },
    {
     "name": "stdout",
     "output_type": "stream",
     "text": [
      "run_query took 25.627570867538452s\n"
     ]
    }
   ],
   "source": [
    "df = c.pull_cost_data(vendor_name='MERFISH UNITED')"
   ]
  },
  {
   "cell_type": "markdown",
   "id": "4f693fae-39df-4b0e-b1cc-eea64c68afa2",
   "metadata": {},
   "source": [
    "## Pull all of vendor's products"
   ]
  },
  {
   "cell_type": "code",
   "execution_count": 3,
   "id": "ee9ebb6c-5d75-45c1-98fa-b2f6e54b4a4d",
   "metadata": {},
   "outputs": [
    {
     "data": {
      "text/html": [
       "<div>\n",
       "<style scoped>\n",
       "    .dataframe tbody tr th:only-of-type {\n",
       "        vertical-align: middle;\n",
       "    }\n",
       "\n",
       "    .dataframe tbody tr th {\n",
       "        vertical-align: top;\n",
       "    }\n",
       "\n",
       "    .dataframe thead th {\n",
       "        text-align: right;\n",
       "    }\n",
       "</style>\n",
       "<table border=\"1\" class=\"dataframe\">\n",
       "  <thead>\n",
       "    <tr style=\"text-align: right;\">\n",
       "      <th></th>\n",
       "      <th>whse</th>\n",
       "      <th>vendno</th>\n",
       "      <th>name</th>\n",
       "      <th>prod</th>\n",
       "      <th>descrip_1</th>\n",
       "      <th>descrip_2</th>\n",
       "      <th>mfgprod</th>\n",
       "      <th>vendprod</th>\n",
       "      <th>pricetype</th>\n",
       "      <th>prodcat</th>\n",
       "      <th>...</th>\n",
       "      <th>replcost</th>\n",
       "      <th>replcostdt</th>\n",
       "      <th>stndcost</th>\n",
       "      <th>stndcostdt</th>\n",
       "      <th>priceonty</th>\n",
       "      <th>prcmult_1</th>\n",
       "      <th>t12m_sales</th>\n",
       "      <th>qtyonhand</th>\n",
       "      <th>qtyonorder</th>\n",
       "      <th>stndprice</th>\n",
       "    </tr>\n",
       "  </thead>\n",
       "  <tbody>\n",
       "    <tr>\n",
       "      <th>0</th>\n",
       "      <td>801</td>\n",
       "      <td>86125</td>\n",
       "      <td>MERFISH UNITED</td>\n",
       "      <td>CPF3012</td>\n",
       "      <td>1\"X20' \"M\" COPPER PIPE</td>\n",
       "      <td></td>\n",
       "      <td>NA</td>\n",
       "      <td>NA</td>\n",
       "      <td>638</td>\n",
       "      <td>6380</td>\n",
       "      <td>...</td>\n",
       "      <td>75.68</td>\n",
       "      <td>2021-11-08</td>\n",
       "      <td>75.68</td>\n",
       "      <td>2021-11-08</td>\n",
       "      <td>C</td>\n",
       "      <td>2.31</td>\n",
       "      <td>NaN</td>\n",
       "      <td>8.0</td>\n",
       "      <td>0.0</td>\n",
       "      <td>174.82</td>\n",
       "    </tr>\n",
       "    <tr>\n",
       "      <th>1</th>\n",
       "      <td>801</td>\n",
       "      <td>86125</td>\n",
       "      <td>MERFISH UNITED</td>\n",
       "      <td>CPF3013A</td>\n",
       "      <td>1-1/4\"X10' \"M\" COPPER</td>\n",
       "      <td>PIPE</td>\n",
       "      <td></td>\n",
       "      <td></td>\n",
       "      <td>638</td>\n",
       "      <td>6380</td>\n",
       "      <td>...</td>\n",
       "      <td>50.18</td>\n",
       "      <td>2021-08-16</td>\n",
       "      <td>50.18</td>\n",
       "      <td>2021-08-16</td>\n",
       "      <td>L</td>\n",
       "      <td>1.00</td>\n",
       "      <td>586.62</td>\n",
       "      <td>4.0</td>\n",
       "      <td>0.0</td>\n",
       "      <td>50.18</td>\n",
       "    </tr>\n",
       "    <tr>\n",
       "      <th>2</th>\n",
       "      <td>801</td>\n",
       "      <td>86125</td>\n",
       "      <td>MERFISH UNITED</td>\n",
       "      <td>CPF3115</td>\n",
       "      <td>3/4\"X50' REFRIG. COIL</td>\n",
       "      <td>COPPER</td>\n",
       "      <td>100178</td>\n",
       "      <td>100178</td>\n",
       "      <td>638</td>\n",
       "      <td>6380</td>\n",
       "      <td>...</td>\n",
       "      <td>126.67</td>\n",
       "      <td>2021-11-08</td>\n",
       "      <td>126.67</td>\n",
       "      <td>2021-11-08</td>\n",
       "      <td>L</td>\n",
       "      <td>1.00</td>\n",
       "      <td>24055.18</td>\n",
       "      <td>13.0</td>\n",
       "      <td>10.0</td>\n",
       "      <td>126.67</td>\n",
       "    </tr>\n",
       "    <tr>\n",
       "      <th>3</th>\n",
       "      <td>801</td>\n",
       "      <td>86125</td>\n",
       "      <td>MERFISH UNITED</td>\n",
       "      <td>CPF3001</td>\n",
       "      <td>3/4\"X20' \"L\" COPPER</td>\n",
       "      <td>PIPE</td>\n",
       "      <td>NA</td>\n",
       "      <td>NA</td>\n",
       "      <td>638</td>\n",
       "      <td>6380</td>\n",
       "      <td>...</td>\n",
       "      <td>68.09</td>\n",
       "      <td>2021-11-08</td>\n",
       "      <td>68.09</td>\n",
       "      <td>2021-11-08</td>\n",
       "      <td>L</td>\n",
       "      <td>1.00</td>\n",
       "      <td>1610.55</td>\n",
       "      <td>10.0</td>\n",
       "      <td>0.0</td>\n",
       "      <td>68.09</td>\n",
       "    </tr>\n",
       "    <tr>\n",
       "      <th>4</th>\n",
       "      <td>801</td>\n",
       "      <td>86125</td>\n",
       "      <td>MERFISH UNITED</td>\n",
       "      <td>CPF3110</td>\n",
       "      <td>1/4\" X 50' REFRIG. COIL</td>\n",
       "      <td>COPPER</td>\n",
       "      <td>100173</td>\n",
       "      <td>100173</td>\n",
       "      <td>638</td>\n",
       "      <td>6380</td>\n",
       "      <td>...</td>\n",
       "      <td>39.65</td>\n",
       "      <td>2021-11-08</td>\n",
       "      <td>39.65</td>\n",
       "      <td>2021-11-08</td>\n",
       "      <td>L</td>\n",
       "      <td>1.00</td>\n",
       "      <td>923.80</td>\n",
       "      <td>2.0</td>\n",
       "      <td>0.0</td>\n",
       "      <td>39.65</td>\n",
       "    </tr>\n",
       "  </tbody>\n",
       "</table>\n",
       "<p>5 rows × 27 columns</p>\n",
       "</div>"
      ],
      "text/plain": [
       "  whse  vendno            name      prod                descrip_1 descrip_2  \\\n",
       "0  801   86125  MERFISH UNITED   CPF3012   1\"X20' \"M\" COPPER PIPE             \n",
       "1  801   86125  MERFISH UNITED  CPF3013A    1-1/4\"X10' \"M\" COPPER      PIPE   \n",
       "2  801   86125  MERFISH UNITED   CPF3115    3/4\"X50' REFRIG. COIL    COPPER   \n",
       "3  801   86125  MERFISH UNITED   CPF3001      3/4\"X20' \"L\" COPPER      PIPE   \n",
       "4  801   86125  MERFISH UNITED   CPF3110  1/4\" X 50' REFRIG. COIL    COPPER   \n",
       "\n",
       "  mfgprod vendprod pricetype prodcat  ... replcost  replcostdt stndcost  \\\n",
       "0      NA       NA       638    6380  ...    75.68  2021-11-08    75.68   \n",
       "1                        638    6380  ...    50.18  2021-08-16    50.18   \n",
       "2  100178   100178       638    6380  ...   126.67  2021-11-08   126.67   \n",
       "3      NA       NA       638    6380  ...    68.09  2021-11-08    68.09   \n",
       "4  100173   100173       638    6380  ...    39.65  2021-11-08    39.65   \n",
       "\n",
       "   stndcostdt  priceonty  prcmult_1  t12m_sales  qtyonhand qtyonorder  \\\n",
       "0  2021-11-08          C       2.31         NaN        8.0        0.0   \n",
       "1  2021-08-16          L       1.00      586.62        4.0        0.0   \n",
       "2  2021-11-08          L       1.00    24055.18       13.0       10.0   \n",
       "3  2021-11-08          L       1.00     1610.55       10.0        0.0   \n",
       "4  2021-11-08          L       1.00      923.80        2.0        0.0   \n",
       "\n",
       "   stndprice  \n",
       "0     174.82  \n",
       "1      50.18  \n",
       "2     126.67  \n",
       "3      68.09  \n",
       "4      39.65  \n",
       "\n",
       "[5 rows x 27 columns]"
      ]
     },
     "execution_count": 3,
     "metadata": {},
     "output_type": "execute_result"
    }
   ],
   "source": [
    "df.head()"
   ]
  },
  {
   "cell_type": "code",
   "execution_count": 4,
   "id": "58865d1c-2d85-474e-bcf4-af0cff7e5f77",
   "metadata": {},
   "outputs": [
    {
     "data": {
      "text/plain": [
       "(75, 27)"
      ]
     },
     "execution_count": 4,
     "metadata": {},
     "output_type": "execute_result"
    }
   ],
   "source": [
    "df.shape"
   ]
  },
  {
   "cell_type": "code",
   "execution_count": 5,
   "id": "8610cf95-7509-47d4-b844-eb431930c094",
   "metadata": {},
   "outputs": [
    {
     "data": {
      "text/plain": [
       "(53,)"
      ]
     },
     "execution_count": 5,
     "metadata": {},
     "output_type": "execute_result"
    }
   ],
   "source": [
    "df['prod'].drop_duplicates().shape"
   ]
  },
  {
   "cell_type": "code",
   "execution_count": 6,
   "id": "fdcfc77d-994d-4dd6-a9e7-f05e5ddc1b1b",
   "metadata": {},
   "outputs": [
    {
     "data": {
      "text/plain": [
       "Index(['whse', 'vendno', 'name', 'prod', 'descrip_1', 'descrip_2', 'mfgprod',\n",
       "       'vendprod', 'pricetype', 'prodcat', 'prodcat_descrip', 'unitstock',\n",
       "       'unitsell', 'unitconv', 'listprice', 'avgcost', 'lastcost', 'replcost',\n",
       "       'replcostdt', 'stndcost', 'stndcostdt', 'priceonty', 'prcmult_1',\n",
       "       't12m_sales', 'qtyonhand', 'qtyonorder', 'stndprice'],\n",
       "      dtype='object')"
      ]
     },
     "execution_count": 6,
     "metadata": {},
     "output_type": "execute_result"
    }
   ],
   "source": [
    "df.columns"
   ]
  },
  {
   "cell_type": "code",
   "execution_count": 7,
   "id": "34a35baa-570c-47f0-9e53-d5677423fd12",
   "metadata": {},
   "outputs": [],
   "source": [
    "df.to_clipboard(index=False)"
   ]
  },
  {
   "cell_type": "markdown",
   "id": "41af73c5-b5a0-4c17-9682-e8da29d3db12",
   "metadata": {},
   "source": [
    "## Check if other vendors supply some of the same products"
   ]
  },
  {
   "cell_type": "code",
   "execution_count": 8,
   "id": "06701e9f-c42b-4cba-850d-32cff7579e8e",
   "metadata": {},
   "outputs": [],
   "source": [
    "products_series = df['prod'].drop_duplicates()"
   ]
  },
  {
   "cell_type": "code",
   "execution_count": 9,
   "id": "8bc97d82-db32-4f91-8053-65a5d26b757c",
   "metadata": {},
   "outputs": [],
   "source": [
    "products_list = products_series.to_list()"
   ]
  },
  {
   "cell_type": "code",
   "execution_count": 10,
   "id": "2e245197-23f1-4ed0-b46c-09b1505df623",
   "metadata": {},
   "outputs": [],
   "source": [
    "products_CSS = ', '.join(products_list)"
   ]
  },
  {
   "cell_type": "code",
   "execution_count": 11,
   "id": "22cd8004-5e42-4964-a2e9-dc0f3f8f54c1",
   "metadata": {},
   "outputs": [
    {
     "data": {
      "text/plain": [
       "'CPF3012, CPF3013A, CPF3115, CPF3001, CPF3110, CPF3022, CPF3012A, CPF3021, CPF3112B, BLK2101A, CPF3001A, CPF3002A, CPF3111, CPF3002, CPF3011, CPF3113, CPF3117, CPF3113B, CPF3114, CPF3023, CPF3015, CPF3025, CPF3000, CPF3024, CPF3000A, CPF3020, CPF3011A, CPF3112, CPF3100, CPF3014, CPF3102A, CPF3026, CPF3013, BLK2101, BLK2103, BLK2102A, BLK2100A, BLK2100, CPF3027, CPF3116, CPF3006, PVC500, PVC220, PVC50, PVC5, PVC320, PVC420, PVC25, PVC251, PVC402, PVC26, PVC50A, PVC401'"
      ]
     },
     "execution_count": 11,
     "metadata": {},
     "output_type": "execute_result"
    }
   ],
   "source": [
    "products_CSS"
   ]
  },
  {
   "cell_type": "code",
   "execution_count": 12,
   "id": "4221982e-fbfe-4f44-ad73-bc4af0d257c9",
   "metadata": {},
   "outputs": [
    {
     "name": "stderr",
     "output_type": "stream",
     "text": [
      "C:\\Users\\franc\\miniconda3\\envs\\work\\lib\\site-packages\\pandas\\io\\sql.py:761: UserWarning: pandas only support SQLAlchemy connectable(engine/connection) ordatabase string URI or sqlite3 DBAPI2 connectionother DBAPI2 objects are not tested, please consider using SQLAlchemy\n",
      "  warnings.warn(\n"
     ]
    },
    {
     "name": "stdout",
     "output_type": "stream",
     "text": [
      "run_query took 13.665905952453613s\n"
     ]
    }
   ],
   "source": [
    "equivalents_df = c.pull_cost_data(prod=products_CSS)"
   ]
  },
  {
   "cell_type": "code",
   "execution_count": 13,
   "id": "84524ff5-a4da-476c-aef0-3dc37fe0bb1f",
   "metadata": {},
   "outputs": [
    {
     "data": {
      "text/html": [
       "<div>\n",
       "<style scoped>\n",
       "    .dataframe tbody tr th:only-of-type {\n",
       "        vertical-align: middle;\n",
       "    }\n",
       "\n",
       "    .dataframe tbody tr th {\n",
       "        vertical-align: top;\n",
       "    }\n",
       "\n",
       "    .dataframe thead th {\n",
       "        text-align: right;\n",
       "    }\n",
       "</style>\n",
       "<table border=\"1\" class=\"dataframe\">\n",
       "  <thead>\n",
       "    <tr style=\"text-align: right;\">\n",
       "      <th></th>\n",
       "      <th>whse</th>\n",
       "      <th>vendno</th>\n",
       "      <th>name</th>\n",
       "      <th>prod</th>\n",
       "      <th>descrip_1</th>\n",
       "      <th>descrip_2</th>\n",
       "      <th>mfgprod</th>\n",
       "      <th>vendprod</th>\n",
       "      <th>pricetype</th>\n",
       "      <th>prodcat</th>\n",
       "      <th>...</th>\n",
       "      <th>replcost</th>\n",
       "      <th>replcostdt</th>\n",
       "      <th>stndcost</th>\n",
       "      <th>stndcostdt</th>\n",
       "      <th>priceonty</th>\n",
       "      <th>prcmult_1</th>\n",
       "      <th>t12m_sales</th>\n",
       "      <th>qtyonhand</th>\n",
       "      <th>qtyonorder</th>\n",
       "      <th>stndprice</th>\n",
       "    </tr>\n",
       "  </thead>\n",
       "  <tbody>\n",
       "    <tr>\n",
       "      <th>0</th>\n",
       "      <td>801</td>\n",
       "      <td>86125</td>\n",
       "      <td>MERFISH UNITED</td>\n",
       "      <td>BLK2103</td>\n",
       "      <td>1-1/4\"X21' TC BLACK</td>\n",
       "      <td>PIPE</td>\n",
       "      <td></td>\n",
       "      <td></td>\n",
       "      <td>635</td>\n",
       "      <td>6350</td>\n",
       "      <td>...</td>\n",
       "      <td>54.87</td>\n",
       "      <td>2021-08-16</td>\n",
       "      <td>54.8700</td>\n",
       "      <td>2021-08-16</td>\n",
       "      <td>C</td>\n",
       "      <td>2.03</td>\n",
       "      <td>NaN</td>\n",
       "      <td>0.0</td>\n",
       "      <td>0.0</td>\n",
       "      <td>111.39</td>\n",
       "    </tr>\n",
       "    <tr>\n",
       "      <th>1</th>\n",
       "      <td>801</td>\n",
       "      <td>86125</td>\n",
       "      <td>MERFISH UNITED</td>\n",
       "      <td>BLK2100A</td>\n",
       "      <td>1/2\" X 10' TC BLACK PIPE</td>\n",
       "      <td></td>\n",
       "      <td></td>\n",
       "      <td></td>\n",
       "      <td>635</td>\n",
       "      <td>6350</td>\n",
       "      <td>...</td>\n",
       "      <td>17.24</td>\n",
       "      <td>2021-08-16</td>\n",
       "      <td>17.2400</td>\n",
       "      <td>2021-08-16</td>\n",
       "      <td>C</td>\n",
       "      <td>4.55</td>\n",
       "      <td>NaN</td>\n",
       "      <td>4.0</td>\n",
       "      <td>0.0</td>\n",
       "      <td>78.44</td>\n",
       "    </tr>\n",
       "    <tr>\n",
       "      <th>2</th>\n",
       "      <td>801</td>\n",
       "      <td>86125</td>\n",
       "      <td>MERFISH UNITED</td>\n",
       "      <td>BLK2102A</td>\n",
       "      <td>1\"X10' TC BLACK PIPE</td>\n",
       "      <td></td>\n",
       "      <td></td>\n",
       "      <td></td>\n",
       "      <td>635</td>\n",
       "      <td>6350</td>\n",
       "      <td>...</td>\n",
       "      <td>23.14</td>\n",
       "      <td>2021-10-13</td>\n",
       "      <td>23.1400</td>\n",
       "      <td>2021-10-13</td>\n",
       "      <td>L</td>\n",
       "      <td>1.00</td>\n",
       "      <td>NaN</td>\n",
       "      <td>4.0</td>\n",
       "      <td>0.0</td>\n",
       "      <td>23.14</td>\n",
       "    </tr>\n",
       "    <tr>\n",
       "      <th>3</th>\n",
       "      <td>801</td>\n",
       "      <td>86125</td>\n",
       "      <td>MERFISH UNITED</td>\n",
       "      <td>BLK2101</td>\n",
       "      <td>3/4\"X21' TC BLACK PIPE</td>\n",
       "      <td></td>\n",
       "      <td></td>\n",
       "      <td></td>\n",
       "      <td>635</td>\n",
       "      <td>6350</td>\n",
       "      <td>...</td>\n",
       "      <td>34.98</td>\n",
       "      <td>2021-08-16</td>\n",
       "      <td>34.9800</td>\n",
       "      <td>2021-08-16</td>\n",
       "      <td>C</td>\n",
       "      <td>2.46</td>\n",
       "      <td>58.42</td>\n",
       "      <td>4.0</td>\n",
       "      <td>0.0</td>\n",
       "      <td>86.05</td>\n",
       "    </tr>\n",
       "    <tr>\n",
       "      <th>4</th>\n",
       "      <td>801</td>\n",
       "      <td>86125</td>\n",
       "      <td>MERFISH UNITED</td>\n",
       "      <td>BLK2100</td>\n",
       "      <td>1/2\" X 21' TC BLACK PIPE</td>\n",
       "      <td></td>\n",
       "      <td></td>\n",
       "      <td></td>\n",
       "      <td>635</td>\n",
       "      <td>6350</td>\n",
       "      <td>...</td>\n",
       "      <td>17.24</td>\n",
       "      <td>2021-09-17</td>\n",
       "      <td>17.2400</td>\n",
       "      <td>2021-09-17</td>\n",
       "      <td>c</td>\n",
       "      <td>4.50</td>\n",
       "      <td>28.79</td>\n",
       "      <td>2.0</td>\n",
       "      <td>0.0</td>\n",
       "      <td>77.58</td>\n",
       "    </tr>\n",
       "    <tr>\n",
       "      <th>...</th>\n",
       "      <td>...</td>\n",
       "      <td>...</td>\n",
       "      <td>...</td>\n",
       "      <td>...</td>\n",
       "      <td>...</td>\n",
       "      <td>...</td>\n",
       "      <td>...</td>\n",
       "      <td>...</td>\n",
       "      <td>...</td>\n",
       "      <td>...</td>\n",
       "      <td>...</td>\n",
       "      <td>...</td>\n",
       "      <td>...</td>\n",
       "      <td>...</td>\n",
       "      <td>...</td>\n",
       "      <td>...</td>\n",
       "      <td>...</td>\n",
       "      <td>...</td>\n",
       "      <td>...</td>\n",
       "      <td>...</td>\n",
       "      <td>...</td>\n",
       "    </tr>\n",
       "    <tr>\n",
       "      <th>71</th>\n",
       "      <td>601</td>\n",
       "      <td>18821</td>\n",
       "      <td>MERFISH UNITED</td>\n",
       "      <td>PVC500</td>\n",
       "      <td>3\"X10' PVC SCH40 PIPE</td>\n",
       "      <td></td>\n",
       "      <td></td>\n",
       "      <td>66911</td>\n",
       "      <td>PVT</td>\n",
       "      <td>7000</td>\n",
       "      <td>...</td>\n",
       "      <td>42.24</td>\n",
       "      <td>2022-02-24</td>\n",
       "      <td>43.0848</td>\n",
       "      <td>2022-02-24</td>\n",
       "      <td>C</td>\n",
       "      <td>1.55</td>\n",
       "      <td>NaN</td>\n",
       "      <td>0.0</td>\n",
       "      <td>0.0</td>\n",
       "      <td>66.78</td>\n",
       "    </tr>\n",
       "    <tr>\n",
       "      <th>72</th>\n",
       "      <td>101</td>\n",
       "      <td>18821</td>\n",
       "      <td>MERFISH UNITED</td>\n",
       "      <td>PVC500</td>\n",
       "      <td>3\"X10' PVC SCH40 PIPE</td>\n",
       "      <td></td>\n",
       "      <td></td>\n",
       "      <td>66911</td>\n",
       "      <td>PVT</td>\n",
       "      <td>7000</td>\n",
       "      <td>...</td>\n",
       "      <td>42.24</td>\n",
       "      <td>2022-02-24</td>\n",
       "      <td>43.0848</td>\n",
       "      <td>2022-02-24</td>\n",
       "      <td>C</td>\n",
       "      <td>1.55</td>\n",
       "      <td>10806.90</td>\n",
       "      <td>59.0</td>\n",
       "      <td>0.0</td>\n",
       "      <td>66.78</td>\n",
       "    </tr>\n",
       "    <tr>\n",
       "      <th>73</th>\n",
       "      <td>602</td>\n",
       "      <td>18821</td>\n",
       "      <td>MERFISH UNITED</td>\n",
       "      <td>PVC500</td>\n",
       "      <td>3\"X10' PVC SCH40 PIPE</td>\n",
       "      <td></td>\n",
       "      <td></td>\n",
       "      <td>66911</td>\n",
       "      <td>PVT</td>\n",
       "      <td>7000</td>\n",
       "      <td>...</td>\n",
       "      <td>42.24</td>\n",
       "      <td>2022-02-24</td>\n",
       "      <td>43.0848</td>\n",
       "      <td>2022-02-24</td>\n",
       "      <td>C</td>\n",
       "      <td>1.55</td>\n",
       "      <td>NaN</td>\n",
       "      <td>0.0</td>\n",
       "      <td>0.0</td>\n",
       "      <td>66.78</td>\n",
       "    </tr>\n",
       "    <tr>\n",
       "      <th>74</th>\n",
       "      <td>102</td>\n",
       "      <td>18821</td>\n",
       "      <td>MERFISH UNITED</td>\n",
       "      <td>PVC500</td>\n",
       "      <td>3\"X10' PVC SCH40 PIPE</td>\n",
       "      <td></td>\n",
       "      <td></td>\n",
       "      <td>66911</td>\n",
       "      <td>PVT</td>\n",
       "      <td>7000</td>\n",
       "      <td>...</td>\n",
       "      <td>42.24</td>\n",
       "      <td>2022-02-24</td>\n",
       "      <td>43.0848</td>\n",
       "      <td>2022-02-24</td>\n",
       "      <td>C</td>\n",
       "      <td>1.55</td>\n",
       "      <td>14676.82</td>\n",
       "      <td>159.0</td>\n",
       "      <td>0.0</td>\n",
       "      <td>66.78</td>\n",
       "    </tr>\n",
       "    <tr>\n",
       "      <th>75</th>\n",
       "      <td>801</td>\n",
       "      <td>86125</td>\n",
       "      <td>MERFISH UNITED</td>\n",
       "      <td>PVC220</td>\n",
       "      <td>2\"X20' PVC SCHEDULE 40</td>\n",
       "      <td>PIPE</td>\n",
       "      <td></td>\n",
       "      <td></td>\n",
       "      <td>820</td>\n",
       "      <td>7000</td>\n",
       "      <td>...</td>\n",
       "      <td>17.53</td>\n",
       "      <td>2021-08-16</td>\n",
       "      <td>17.5300</td>\n",
       "      <td>2021-08-16</td>\n",
       "      <td>C</td>\n",
       "      <td>2.46</td>\n",
       "      <td>0.00</td>\n",
       "      <td>0.0</td>\n",
       "      <td>0.0</td>\n",
       "      <td>43.12</td>\n",
       "    </tr>\n",
       "  </tbody>\n",
       "</table>\n",
       "<p>76 rows × 27 columns</p>\n",
       "</div>"
      ],
      "text/plain": [
       "   whse  vendno            name      prod                 descrip_1 descrip_2  \\\n",
       "0   801   86125  MERFISH UNITED   BLK2103       1-1/4\"X21' TC BLACK      PIPE   \n",
       "1   801   86125  MERFISH UNITED  BLK2100A  1/2\" X 10' TC BLACK PIPE             \n",
       "2   801   86125  MERFISH UNITED  BLK2102A      1\"X10' TC BLACK PIPE             \n",
       "3   801   86125  MERFISH UNITED   BLK2101    3/4\"X21' TC BLACK PIPE             \n",
       "4   801   86125  MERFISH UNITED   BLK2100  1/2\" X 21' TC BLACK PIPE             \n",
       "..  ...     ...             ...       ...                       ...       ...   \n",
       "71  601   18821  MERFISH UNITED    PVC500     3\"X10' PVC SCH40 PIPE             \n",
       "72  101   18821  MERFISH UNITED    PVC500     3\"X10' PVC SCH40 PIPE             \n",
       "73  602   18821  MERFISH UNITED    PVC500     3\"X10' PVC SCH40 PIPE             \n",
       "74  102   18821  MERFISH UNITED    PVC500     3\"X10' PVC SCH40 PIPE             \n",
       "75  801   86125  MERFISH UNITED    PVC220    2\"X20' PVC SCHEDULE 40      PIPE   \n",
       "\n",
       "   mfgprod vendprod pricetype prodcat  ... replcost  replcostdt stndcost  \\\n",
       "0                         635    6350  ...    54.87  2021-08-16  54.8700   \n",
       "1                         635    6350  ...    17.24  2021-08-16  17.2400   \n",
       "2                         635    6350  ...    23.14  2021-10-13  23.1400   \n",
       "3                         635    6350  ...    34.98  2021-08-16  34.9800   \n",
       "4                         635    6350  ...    17.24  2021-09-17  17.2400   \n",
       "..     ...      ...       ...     ...  ...      ...         ...      ...   \n",
       "71            66911       PVT    7000  ...    42.24  2022-02-24  43.0848   \n",
       "72            66911       PVT    7000  ...    42.24  2022-02-24  43.0848   \n",
       "73            66911       PVT    7000  ...    42.24  2022-02-24  43.0848   \n",
       "74            66911       PVT    7000  ...    42.24  2022-02-24  43.0848   \n",
       "75                        820    7000  ...    17.53  2021-08-16  17.5300   \n",
       "\n",
       "    stndcostdt  priceonty  prcmult_1  t12m_sales  qtyonhand qtyonorder  \\\n",
       "0   2021-08-16          C       2.03         NaN        0.0        0.0   \n",
       "1   2021-08-16          C       4.55         NaN        4.0        0.0   \n",
       "2   2021-10-13          L       1.00         NaN        4.0        0.0   \n",
       "3   2021-08-16          C       2.46       58.42        4.0        0.0   \n",
       "4   2021-09-17          c       4.50       28.79        2.0        0.0   \n",
       "..         ...        ...        ...         ...        ...        ...   \n",
       "71  2022-02-24          C       1.55         NaN        0.0        0.0   \n",
       "72  2022-02-24          C       1.55    10806.90       59.0        0.0   \n",
       "73  2022-02-24          C       1.55         NaN        0.0        0.0   \n",
       "74  2022-02-24          C       1.55    14676.82      159.0        0.0   \n",
       "75  2021-08-16          C       2.46        0.00        0.0        0.0   \n",
       "\n",
       "    stndprice  \n",
       "0      111.39  \n",
       "1       78.44  \n",
       "2       23.14  \n",
       "3       86.05  \n",
       "4       77.58  \n",
       "..        ...  \n",
       "71      66.78  \n",
       "72      66.78  \n",
       "73      66.78  \n",
       "74      66.78  \n",
       "75      43.12  \n",
       "\n",
       "[76 rows x 27 columns]"
      ]
     },
     "execution_count": 13,
     "metadata": {},
     "output_type": "execute_result"
    }
   ],
   "source": [
    "equivalents_df"
   ]
  },
  {
   "cell_type": "markdown",
   "id": "df06d88a-a511-41a2-b935-22eb5e6236c5",
   "metadata": {},
   "source": [
    "## <span style=\"color:red\"> Change vendor name in quotes"
   ]
  },
  {
   "cell_type": "code",
   "execution_count": 14,
   "id": "e7ec43bb-a70f-4dee-bced-c422a7ad1513",
   "metadata": {},
   "outputs": [],
   "source": [
    "equivalents_NS_df = equivalents_df[equivalents_df['name'].str.contains('MERFISH UNITED') == False]"
   ]
  },
  {
   "cell_type": "code",
   "execution_count": 15,
   "id": "9e7ea2ea-d110-49ce-ae2b-3199e8dbabab",
   "metadata": {},
   "outputs": [
    {
     "data": {
      "text/plain": [
       "(1, 27)"
      ]
     },
     "execution_count": 15,
     "metadata": {},
     "output_type": "execute_result"
    }
   ],
   "source": [
    "equivalents_NS_df.shape"
   ]
  },
  {
   "cell_type": "code",
   "execution_count": 16,
   "id": "935e762b-62f9-486f-a465-e5bc53ae6117",
   "metadata": {},
   "outputs": [
    {
     "data": {
      "text/html": [
       "<div>\n",
       "<style scoped>\n",
       "    .dataframe tbody tr th:only-of-type {\n",
       "        vertical-align: middle;\n",
       "    }\n",
       "\n",
       "    .dataframe tbody tr th {\n",
       "        vertical-align: top;\n",
       "    }\n",
       "\n",
       "    .dataframe thead th {\n",
       "        text-align: right;\n",
       "    }\n",
       "</style>\n",
       "<table border=\"1\" class=\"dataframe\">\n",
       "  <thead>\n",
       "    <tr style=\"text-align: right;\">\n",
       "      <th></th>\n",
       "      <th>whse</th>\n",
       "      <th>vendno</th>\n",
       "      <th>name</th>\n",
       "      <th>prod</th>\n",
       "      <th>descrip_1</th>\n",
       "      <th>descrip_2</th>\n",
       "      <th>mfgprod</th>\n",
       "      <th>vendprod</th>\n",
       "      <th>pricetype</th>\n",
       "      <th>prodcat</th>\n",
       "      <th>...</th>\n",
       "      <th>replcost</th>\n",
       "      <th>replcostdt</th>\n",
       "      <th>stndcost</th>\n",
       "      <th>stndcostdt</th>\n",
       "      <th>priceonty</th>\n",
       "      <th>prcmult_1</th>\n",
       "      <th>t12m_sales</th>\n",
       "      <th>qtyonhand</th>\n",
       "      <th>qtyonorder</th>\n",
       "      <th>stndprice</th>\n",
       "    </tr>\n",
       "  </thead>\n",
       "  <tbody>\n",
       "    <tr>\n",
       "      <th>20</th>\n",
       "      <td>801</td>\n",
       "      <td>83801</td>\n",
       "      <td>PASSAIC METAL INTER CO</td>\n",
       "      <td>PVC401</td>\n",
       "      <td>1\"X10' PVC SCH40 PIPE</td>\n",
       "      <td></td>\n",
       "      <td></td>\n",
       "      <td></td>\n",
       "      <td>820</td>\n",
       "      <td>7000</td>\n",
       "      <td>...</td>\n",
       "      <td>8.88</td>\n",
       "      <td>2021-11-08</td>\n",
       "      <td>8.88</td>\n",
       "      <td>2021-11-08</td>\n",
       "      <td>C</td>\n",
       "      <td>1.65</td>\n",
       "      <td>596.26</td>\n",
       "      <td>59.0</td>\n",
       "      <td>0.0</td>\n",
       "      <td>14.65</td>\n",
       "    </tr>\n",
       "  </tbody>\n",
       "</table>\n",
       "<p>1 rows × 27 columns</p>\n",
       "</div>"
      ],
      "text/plain": [
       "   whse  vendno                    name    prod              descrip_1  \\\n",
       "20  801   83801  PASSAIC METAL INTER CO  PVC401  1\"X10' PVC SCH40 PIPE   \n",
       "\n",
       "   descrip_2 mfgprod vendprod pricetype prodcat  ... replcost  replcostdt  \\\n",
       "20                                  820    7000  ...     8.88  2021-11-08   \n",
       "\n",
       "   stndcost  stndcostdt  priceonty  prcmult_1  t12m_sales  qtyonhand  \\\n",
       "20     8.88  2021-11-08          C       1.65      596.26       59.0   \n",
       "\n",
       "   qtyonorder  stndprice  \n",
       "20        0.0      14.65  \n",
       "\n",
       "[1 rows x 27 columns]"
      ]
     },
     "execution_count": 16,
     "metadata": {},
     "output_type": "execute_result"
    }
   ],
   "source": [
    "equivalents_NS_df"
   ]
  },
  {
   "cell_type": "code",
   "execution_count": 17,
   "id": "5ab324d2-09a1-474c-8ae0-b4a53ed578d3",
   "metadata": {},
   "outputs": [],
   "source": [
    "equivalents_NS_df.to_clipboard()"
   ]
  },
  {
   "cell_type": "markdown",
   "id": "6b16b9b2-9769-4fc9-96bf-a1f89f10d274",
   "metadata": {},
   "source": [
    "## <span style=\"color:red\"> If the result of two cells above does not yield (0,*) AND does not have an irrelavant vendor (e.g. PASSAIC METAL INTER CO), activate and use the cells below to learn about equivalent products from other vendors"
   ]
  },
  {
   "cell_type": "markdown",
   "id": "0579bcaa-2c02-42e1-a209-fbb23821bb79",
   "metadata": {
    "tags": []
   },
   "source": [
    "## Check how many equivalent products we buy each of the other RELEVANT vendors (e.g. not PASSAIC METAL INTER CO)"
   ]
  },
  {
   "cell_type": "markdown",
   "id": "46f391e5-55ea-4e77-9847-56e9238197bc",
   "metadata": {},
   "source": [
    "\"\"\"\n",
    "check how many items we order from the alternate vendor(s)\n",
    "based in the result, we can decide whether or not to include those products in our analysis\n",
    "\"\"\"\n",
    "alt_vend_prod_df_1 = c.pull_cost_data(vendor_name='DIVERSITECH CORPORATION')\n",
    "\n",
    "alt_vend_prod_df_1.drop_duplicates(subset=['prod']).shape"
   ]
  },
  {
   "cell_type": "markdown",
   "id": "b4ad12ad-26ee-4b5c-a3fb-fd0be4631931",
   "metadata": {},
   "source": [
    "pre_df_1 = pd.concat([alt_vend_prod_df_1,equivalents_NS_df])"
   ]
  },
  {
   "cell_type": "markdown",
   "id": "9778ccb3-47d9-49d9-960b-e7fa930b1f49",
   "metadata": {},
   "source": [
    "alt_vend_relevant_prod_df_1 = pre_df_1.loc[pre_df_1.duplicated()]"
   ]
  },
  {
   "cell_type": "markdown",
   "id": "6bb020f4-4e4f-4db7-b79c-1dcb5007506f",
   "metadata": {},
   "source": [
    "alt_vend_relevant_prod_df_1.shape"
   ]
  },
  {
   "cell_type": "markdown",
   "id": "3b0063bf-1089-4f20-9e76-053e3fafabd0",
   "metadata": {},
   "source": [
    "## Combine products from other vendor(s)"
   ]
  },
  {
   "cell_type": "markdown",
   "id": "230764e5-cd2d-4184-abb6-3d16cb1d76c7",
   "metadata": {},
   "source": [
    "df = pd.concat([df,alt_vend_prod_df_1])"
   ]
  },
  {
   "cell_type": "markdown",
   "id": "4ecb401e-0668-4675-8290-5d6a58191ea3",
   "metadata": {},
   "source": [
    "## <span style=\"color:red\"> Don't skip this section without checking the results of equivalent_NS_df.shape"
   ]
  },
  {
   "cell_type": "markdown",
   "id": "ffe508ce-2a2c-4f56-a55a-47c85f8c3fa3",
   "metadata": {},
   "source": [
    "# Check product redundancies"
   ]
  },
  {
   "cell_type": "markdown",
   "id": "556c385c-83dc-4d89-8974-4b65a77928b7",
   "metadata": {},
   "source": [
    "# view redundancies\n",
    "df.loc[df.duplicated(subset=['whse','prod'],keep=False)].sort_values(by=['prod','whse']).to_clipboard(index=False)"
   ]
  },
  {
   "cell_type": "markdown",
   "id": "7388b2a2-bfd8-47cd-9c64-02db58251604",
   "metadata": {},
   "source": [
    "# check number of redundant rows (this includes ALL doubled rows)\n",
    "df.loc[df.duplicated(subset=['whse','prod'],keep=False)].shape"
   ]
  },
  {
   "cell_type": "markdown",
   "id": "c15ce9b5-5a69-4111-8b55-ce96b944344e",
   "metadata": {},
   "source": [
    "# check if there is any difference in any of the entries of redundant rows\n",
    "df.loc[df.duplicated(subset=['whse','prod'],keep=False)].drop_duplicates(keep=False)"
   ]
  },
  {
   "cell_type": "markdown",
   "id": "c36b37d8-8c0c-4e12-9f3c-ee411f840623",
   "metadata": {},
   "source": [
    "## Save Product Info"
   ]
  },
  {
   "cell_type": "markdown",
   "id": "1711ecd2-609c-4678-9e22-77d909dee5b4",
   "metadata": {},
   "source": [
    "## <span style=\"color:red\"> Change the vendor name in last part of file path"
   ]
  },
  {
   "cell_type": "code",
   "execution_count": 20,
   "id": "e0b0bf4f-7cda-4c6e-a3b5-cfa5eb20d017",
   "metadata": {},
   "outputs": [],
   "source": [
    "loc = Path.cwd().parent / 'data' / 'merfish_product_info.csv'\n",
    "df.to_csv(loc, index=False)"
   ]
  },
  {
   "cell_type": "code",
   "execution_count": null,
   "id": "90d62b14-bd13-4e25-9401-25fbfe5ef73a",
   "metadata": {},
   "outputs": [],
   "source": []
  }
 ],
 "metadata": {
  "kernelspec": {
   "display_name": "Python 3 (ipykernel)",
   "language": "python",
   "name": "python3"
  },
  "language_info": {
   "codemirror_mode": {
    "name": "ipython",
    "version": 3
   },
   "file_extension": ".py",
   "mimetype": "text/x-python",
   "name": "python",
   "nbconvert_exporter": "python",
   "pygments_lexer": "ipython3",
   "version": "3.10.4"
  }
 },
 "nbformat": 4,
 "nbformat_minor": 5
}
